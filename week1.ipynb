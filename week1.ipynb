{
 "cells": [
  {
   "cell_type": "markdown",
   "metadata": {},
   "source": [
    "## The battle of the neighborhoods - week 1"
   ]
  },
  {
   "cell_type": "markdown",
   "metadata": {},
   "source": [
    "### Description of the problem and discussion of the background"
   ]
  },
  {
   "cell_type": "markdown",
   "metadata": {},
   "source": [
    "Mr. Peperoni owns several successful pizza restaurants in London and wants to expand his brand across the Atlantic. After plenty of research he came to the conclusion, that New York City and Toronto are the perfect cities to start his North American dream in. However, Mr. Peperoni doesn't have the funds to open pizzerias in both cities at the same time. He therefore asked me to determine which of the two cities has the lower number of Italian restaurants. The second question he asked me is which neighbourhoods in that city have the lowest number of pizza places and which neighbourhood has the lowest rated Italian restaurants. As he wants to open one place in direct competition to crappy pizza places and the other one in an area that doesn't have a lot of Italian restaurants. \n"
   ]
  },
  {
   "cell_type": "markdown",
   "metadata": {},
   "source": [
    "### Description of the data and how it will be used to solve the problem"
   ]
  },
  {
   "cell_type": "markdown",
   "metadata": {},
   "source": [
    "As a first step of my analysis I will use the Foursquare data of New York City and Toronto to determine which city has the lower number of pizzerias. The second step will be to use the Foursquare data of the city with the lowest number of Italian restaurants to identify both the neighbourhood which has the lowest rated pizza places as well as the neighbourhood which has the lowest number of pizzerias. \n"
   ]
  },
  {
   "cell_type": "code",
   "execution_count": null,
   "metadata": {},
   "outputs": [],
   "source": []
  }
 ],
 "metadata": {
  "kernelspec": {
   "display_name": "Python 3",
   "language": "python",
   "name": "python3"
  },
  "language_info": {
   "codemirror_mode": {
    "name": "ipython",
    "version": 3
   },
   "file_extension": ".py",
   "mimetype": "text/x-python",
   "name": "python",
   "nbconvert_exporter": "python",
   "pygments_lexer": "ipython3",
   "version": "3.8.5"
  }
 },
 "nbformat": 4,
 "nbformat_minor": 4
}
